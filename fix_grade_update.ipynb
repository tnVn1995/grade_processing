{
 "nbformat": 4,
 "nbformat_minor": 2,
 "metadata": {
  "language_info": {
   "name": "python",
   "codemirror_mode": {
    "name": "ipython",
    "version": 3
   },
   "version": "3.6.10-final"
  },
  "orig_nbformat": 2,
  "file_extension": ".py",
  "mimetype": "text/x-python",
  "name": "python",
  "npconvert_exporter": "python",
  "pygments_lexer": "ipython3",
  "version": 3,
  "kernelspec": {
   "name": "pycharm-d3a689fb",
   "display_name": "PyCharm (handson-unsupervised-learning)"
  }
 },
 "cells": [
  {
   "cell_type": "code",
   "execution_count": 4,
   "metadata": {},
   "outputs": [],
   "source": [
    "import pandas as pd \n",
    "df = pd.read_csv('commands.txt', header=None)"
   ]
  },
  {
   "cell_type": "code",
   "execution_count": 5,
   "metadata": {},
   "outputs": [
    {
     "output_type": "execute_result",
     "data": {
      "text/plain": "                                                     0\n0    10 python .\\grade_update.py -g 5 -c ec2 -fi .\\...\n1      11 python .\\grade_update.py -g 5 -c ec2 -fi ...\n2      12 python .\\grade_update.py -g 5 -c ec2 -fi ...\n3      13 python .\\grade_update.py -g 5 -c ec2 -fi ...\n4      14 python .\\grade_update.py -g 5 -c ec2 -fi ...\n..                                                 ...\n100   110 python .\\grade_update.py -g 0 -c ec2 -fi ...\n101   111 python .\\grade_update.py -g 0 -c ec2 -fi ...\n102   112 python .\\grade_update.py -g 5 -c ec2 -fi ...\n103   113 python .\\grade_update.py -g 5 -c ec2 -fi ...\n104   114 python .\\grade_update.py -g 5 -c ec2 -fi ...\n\n[105 rows x 1 columns]",
      "text/html": "<div>\n<style scoped>\n    .dataframe tbody tr th:only-of-type {\n        vertical-align: middle;\n    }\n\n    .dataframe tbody tr th {\n        vertical-align: top;\n    }\n\n    .dataframe thead th {\n        text-align: right;\n    }\n</style>\n<table border=\"1\" class=\"dataframe\">\n  <thead>\n    <tr style=\"text-align: right;\">\n      <th></th>\n      <th>0</th>\n    </tr>\n  </thead>\n  <tbody>\n    <tr>\n      <th>0</th>\n      <td>10 python .\\grade_update.py -g 5 -c ec2 -fi .\\...</td>\n    </tr>\n    <tr>\n      <th>1</th>\n      <td>11 python .\\grade_update.py -g 5 -c ec2 -fi ...</td>\n    </tr>\n    <tr>\n      <th>2</th>\n      <td>12 python .\\grade_update.py -g 5 -c ec2 -fi ...</td>\n    </tr>\n    <tr>\n      <th>3</th>\n      <td>13 python .\\grade_update.py -g 5 -c ec2 -fi ...</td>\n    </tr>\n    <tr>\n      <th>4</th>\n      <td>14 python .\\grade_update.py -g 5 -c ec2 -fi ...</td>\n    </tr>\n    <tr>\n      <th>...</th>\n      <td>...</td>\n    </tr>\n    <tr>\n      <th>100</th>\n      <td>110 python .\\grade_update.py -g 0 -c ec2 -fi ...</td>\n    </tr>\n    <tr>\n      <th>101</th>\n      <td>111 python .\\grade_update.py -g 0 -c ec2 -fi ...</td>\n    </tr>\n    <tr>\n      <th>102</th>\n      <td>112 python .\\grade_update.py -g 5 -c ec2 -fi ...</td>\n    </tr>\n    <tr>\n      <th>103</th>\n      <td>113 python .\\grade_update.py -g 5 -c ec2 -fi ...</td>\n    </tr>\n    <tr>\n      <th>104</th>\n      <td>114 python .\\grade_update.py -g 5 -c ec2 -fi ...</td>\n    </tr>\n  </tbody>\n</table>\n<p>105 rows × 1 columns</p>\n</div>"
     },
     "metadata": {},
     "execution_count": 5
    }
   ],
   "source": [
    "df"
   ]
  },
  {
   "cell_type": "code",
   "execution_count": 10,
   "metadata": {},
   "outputs": [],
   "source": [
    "df = df.drop([0])\n",
    "df.reset_index(drop=True, inplace=True)"
   ]
  },
  {
   "cell_type": "code",
   "execution_count": 53,
   "metadata": {},
   "outputs": [],
   "source": [
    "commands =[]\n",
    "for idx, val in enumerate(df[0].values):\n",
    "    if idx ==0:\n",
    "        commands.append(val)\n",
    "    else:\n",
    "        val = val.strip()\n",
    "        val = val.split(' ')\n",
    "        val.pop(0)\n",
    "        val[7] = val[9] + '/class_roster.xlsx'\n",
    "        commands.append(' '.join(val))"
   ]
  },
  {
   "cell_type": "code",
   "execution_count": 55,
   "metadata": {},
   "outputs": [],
   "source": [
    "with open('fix.txt', 'w') as filehandle:\n",
    "    for listitem in commands:\n",
    "        filehandle.write('%s\\n' % listitem)"
   ]
  },
  {
   "cell_type": "code",
   "execution_count": 54,
   "metadata": {},
   "outputs": [
    {
     "output_type": "stream",
     "name": "stdout",
     "text": "11 python .\\grade_update.py -g 5 -c ec2 -fi .\\class_roster.xlsx -s ./processed_test2/class_roster.xlsx -l Herber -f Brady\npython .\\grade_update.py -g 5 -c ec2 -fi ./processed_test2/class_roster.xlsx/class_roster.xlsx -s ./processed_test2/class_roster.xlsx -f Herber -l Brady\npython .\\grade_update.py -g 5 -c ec2 -fi ./processed_test2/class_roster.xlsx/class_roster.xlsx -s ./processed_test2/class_roster.xlsx -l Herber -f Brady\npython .\\grade_update.py -g 5 -c ec2 -fi ./processed_test2/class_roster.xlsx/class_roster.xlsx -s ./processed_test2/class_roster.xlsx -l Herber -f Brady\npython .\\grade_update.py -g 5 -c ec2 -fi ./processed_test2/class_roster.xlsx/class_roster.xlsx -s ./processed_test2/class_roster.xlsx -l Herber -f Brady\npython .\\grade_update.py -g 5 -c ec2 -fi ./processed_test2/class_roster.xlsx/class_roster.xlsx -s ./processed_test2/class_roster.xlsx -l Herber -f Brady\npython .\\grade_update.py -g 5 -c ec2 -fi ./processed_test2/class_roster.xlsx/class_roster.xlsx -s ./processed_test2/class_roster.xlsx -l Nicole -f Montgomery\npython .\\grade_update.py -g 5 -c ec2 -fi ./processed_test2/class_roster.xlsx/class_roster.xlsx -s ./processed_test2/class_roster.xlsx -f Mcgilvray -f Tea\npython .\\grade_update.py -g 5 -c ec2 -fi ./processed_test2/class_roster.xlsx/class_roster.xlsx -s ./processed_test2/class_roster.xlsx -f McGilvray -f Tea\npython .\\grade_update.py -g 5 -c ec2 -fi ./processed_test2/class_roster.xlsx/class_roster.xlsx -s ./processed_test2/class_roster.xlsx -r 11617957\npython .\\grade_update.py -g 5 -c ec2 -fi ./processed_test2/class_roster.xlsx/class_roster.xlsx -s ./processed_test2/class_roster.xlsx -f Kaylynne -f Moskal\npython .\\grade_update.py -g 5 -c ec2 -fi ./processed_test2/class_roster.xlsx/class_roster.xlsx -s ./processed_test2/class_roster.xlsx -l Kaylynne -f Moskal\npython .\\grade_update.py -g 5 -c ec2 -fi ./processed_test2/class_roster.xlsx/class_roster.xlsx -s ./processed_test2/class_roster.xlsx -l Kaylynne -f Moskal\npython .\\grade_update.py -g 5 -c ec2 -fi ./processed_test2/class_roster.xlsx/class_roster.xlsx -s ./processed_test2/class_roster.xlsx -l Moskal -f Kaylynne\npython .\\grade_update.py -g 5 -c ec2 -fi ./processed_test2/class_roster.xlsx/class_roster.xlsx -s ./processed_test2/class_roster.xlsx -l Moskal -f Kaylynne\npython .\\grade_update.py -g 5 -c ec2 -fi ./processed_test2/class_roster.xlsx/class_roster.xlsx -s ./processed_test2/class_roster.xlsx -l Osibamowo -f Toluwani\npython .\\grade_update.py -g 5 -c ec2 -fi ./processed_test2/class_roster.xlsx/class_roster.xlsx -s ./processed_test2/class_roster.xlsx -l Nary  -f Kelli\npython .\\grade_update.py -g 5 -c ec2 -fi ./processed_test2/class_roster.xlsx/class_roster.xlsx -s ./processed_test2/class_roster.xlsx -l Katherine  -f Skaggs\npython .\\grade_update.py -g 5 -c ec2 -fi ./processed_test2/class_roster.xlsx/class_roster.xlsx -s ./processed_test2/class_roster.xlsx -l Skaggs  -f Katherine\npython .\\grade_update.py -g 5 -c ec2 -fi ./processed_test2/class_roster.xlsx/class_roster.xlsx -s ./processed_test2/class_roster.xlsx -l Penberg  -f Chase\npython .\\grade_update.py -g 5 -c ec2 -fi ./processed_test2/class_roster.xlsx/class_roster.xlsx -s ./processed_test2/class_roster.xlsx -l Golleher  -f Garrett\npython .\\grade_update.py -g 5 -c ec2 -fi ./processed_test2/class_roster.xlsx/class_roster.xlsx -s ./processed_test2/class_roster.xlsx -l Carlton  -f Ashlee\npython .\\grade_update.py -g 5 -c ec2 -fi ./processed_test2/class_roster.xlsx/class_roster.xlsx -s ./processed_test2/class_roster.xlsx -l Macri  -f Brianna\npython .\\grade_update.py -g 5 -c ec2 -fi ./processed_test2/class_roster.xlsx/class_roster.xlsx -s ./processed_test2/class_roster.xlsx -l Stephen  -f Abigail\npython .\\grade_update.py -g 5 -c ec2 -fi ./processed_test2/class_roster.xlsx/class_roster.xlsx -s ./processed_test2/class_roster.xlsx -l Abigail  -f Stephen\npython .\\grade_update.py -g 5 -c ec2 -fi ./processed_test2/class_roster.xlsx/class_roster.xlsx -s ./processed_test2/class_roster.xlsx -l Abigail  -f Stephens\npython .\\grade_update.py -g 5 -c ec2 -fi ./processed_test2/class_roster.xlsx/class_roster.xlsx -s ./processed_test2/class_roster.xlsx -l Stephens  -f Abigail\npython .\\grade_update.py -g 5 -c ec2 -fi ./processed_test2/class_roster.xlsx/class_roster.xlsx -s ./processed_test2/class_roster.xlsx -l Hanson  -f Kennedy\npython .\\grade_update.py -g 5 -c ec2 -fi ./processed_test2/class_roster.xlsx/class_roster.xlsx -s ./processed_test2/class_roster.xlsx -l Plattner  -f Jacob\npython .\\grade_update.py -g 5 -c ec2 -fi ./processed_test2/class_roster.xlsx/class_roster.xlsx -s ./processed_test2/class_roster.xlsx -l Mendoza  -f Allie\npython .\\grade_update.py -g 5 -c ec2 -fi ./processed_test2/class_roster.xlsx/class_roster.xlsx -s ./processed_test2/class_roster.xlsx -l Ashley -f Kimber\npython .\\grade_update.py -g 5 -c ec2 -fi ./processed_test2/class_roster.xlsx/class_roster.xlsx -s ./processed_test2/class_roster.xlsx -l Williams -f Jordan\npython .\\grade_update.py -g 0 -c ec2 -fi ./processed_test2/class_roster.xlsx/class_roster.xlsx -s ./processed_test2/class_roster.xlsx -l Williams -f Jordan\npython .\\grade_update.py -g 5 -c ec2 -fi ./processed_test2/class_roster.xlsx/class_roster.xlsx -s ./processed_test2/class_roster.xlsx -l Fields -f Chloe\npython .\\grade_update.py -g 5 -c ec2 -fi ./processed_test2/class_roster.xlsx/class_roster.xlsx -s ./processed_test2/class_roster.xlsx -l Fields -f Chole\npython .\\grade_update.py -g 5 -c ec2 -fi ./processed_test2/class_roster.xlsx/class_roster.xlsx -s ./processed_test2/class_roster.xlsx -l Gonalez -f Nicholas\npython .\\grade_update.py -g 5 -c ec2 -fi ./processed_test2/class_roster.xlsx/class_roster.xlsx -s ./processed_test2/class_roster.xlsx -l Gonzalez -f Nicholas\npython .\\grade_update.py -g 5 -c ec2 -fi ./processed_test2/class_roster.xlsx/class_roster.xlsx -s ./processed_test2/class_roster.xlsx -l Lee -f Collin\npython .\\grade_update.py -g 5 -c ec2 -fi ./processed_test2/class_roster.xlsx/class_roster.xlsx -s ./processed_test2/class_roster.xlsx -l Benedict -f Gabriel\npython .\\grade_update.py -g 5 -c ec2 -fi ./processed_test2/class_roster.xlsx/class_roster.xlsx -s ./processed_test2/class_roster.xlsx -l Cervantez -f Bianca\npython .\\grade_update.py -g 5 -c ec2 -fi ./processed_test2/class_roster.xlsx/class_roster.xlsx -s ./processed_test2/class_roster.xlsx -l Estrada -f Kaylee\npython .\\grade_update.py -g 5 -c ec2 -fi ./processed_test2/class_roster.xlsx/class_roster.xlsx -s ./processed_test2/class_roster.xlsx -l Katore -f Tejal\npython .\\grade_update.py -g 5 -c ec2 -fi ./processed_test2/class_roster.xlsx/class_roster.xlsx -s ./processed_test2/class_roster.xlsx -l Katore -f Tejal Nandki...\npython .\\grade_update.py -g 5 -c ec2 -fi ./processed_test2/class_roster.xlsx/class_roster.xlsx -s ./processed_test2/class_roster.xlsx -l Katore -f \"Tejal Nandk...\npython .\\grade_update.py -g 5 -c ec2 -fi ./processed_test2/class_roster.xlsx/class_roster.xlsx -s ./processed_test2/class_roster.xlsx -l Patel -f Radhika\npython .\\grade_update.py -g 5 -c ec2 -fi ./processed_test2/class_roster.xlsx/class_roster.xlsx -s ./processed_test2/class_roster.xlsx -l Perry -f Nicholas\npython .\\grade_update.py -g 5 -c ec2 -fi ./processed_test2/class_roster.xlsx/class_roster.xlsx -s ./processed_test2/class_roster.xlsx -l Miller -f Cade\npython .\\grade_update.py -g 5 -c ec2 -fi ./processed_test2/class_roster.xlsx/class_roster.xlsx -s ./processed_test2/class_roster.xlsx -l Holbert -f Jason\npython .\\grade_update.py -g 5 -c ec2 -fi ./processed_test2/class_roster.xlsx/class_roster.xlsx -s ./processed_test2/class_roster.xlsx -l Weathers -f Holly\npython .\\grade_update.py -g 5 -c ec2 -fi ./processed_test2/class_roster.xlsx/class_roster.xlsx -s ./processed_test2/class_roster.xlsx -l Quinn -f Kevin\npython .\\grade_update.py -g 5 -c ec2 -fi ./processed_test2/class_roster.xlsx/class_roster.xlsx -s ./processed_test2/class_roster.xlsx -l Lins  -f Victoria\npython .\\grade_update.py -g 5 -c ec2 -fi ./processed_test2/class_roster.xlsx/class_roster.xlsx -s ./processed_test2/class_roster.xlsx -l Young  -f Zachary\npython .\\grade_update.py -g 0 -c ec2 -fi ./processed_test2/class_roster.xlsx/class_roster.xlsx -s ./processed_test2/class_roster.xlsx -l Young  -f Zachary\npython .\\grade_update.py -g 5 -c ec2 -fi ./processed_test2/class_roster.xlsx/class_roster.xlsx -s ./processed_test2/class_roster.xlsx -l McAdoo -f Erin\npython .\\grade_update.py -g 5 -c ec2 -fi ./processed_test2/class_roster.xlsx/class_roster.xlsx -s ./processed_test2/class_roster.xlsx -l Thornock -f Lillian\npython .\\grade_update.py -g 5 -c ec2 -fi ./processed_test2/class_roster.xlsx/class_roster.xlsx -s ./processed_test2/class_roster.xlsx -l Stewart -f Aamhad\npython .\\grade_update.py -g 5 -c ec2 -fi ./processed_test2/class_roster.xlsx/class_roster.xlsx -s ./processed_test2/class_roster.xlsx -l Washington -f Kaylee\npython .\\grade_update.py -g 5 -c ec2 -fi ./processed_test2/class_roster.xlsx/class_roster.xlsx -s ./processed_test2/class_roster.xlsx -l Brugette -f Georgina\npython .\\grade_update.py -g 5 -c ec2 -fi ./processed_test2/class_roster.xlsx/class_roster.xlsx -s ./processed_test2/class_roster.xlsx -l Thomas -f Alyssa\npython .\\grade_update.py -g 5 -c ec2 -fi ./processed_test2/class_roster.xlsx/class_roster.xlsx -s ./processed_test2/class_roster.xlsx -l Chapel -f Beyonce\npython .\\grade_update.py -g 5 -c ec2 -fi ./processed_test2/class_roster.xlsx/class_roster.xlsx -s ./processed_test2/class_roster.xlsx -l Taylor -f Evelyn\npython .\\grade_update.py -g 5 -c ec2 -fi ./processed_test2/class_roster.xlsx/class_roster.xlsx -s ./processed_test2/class_roster.xlsx -l Brooks -f Payton\npython .\\grade_update.py -g 5 -c ec2 -fi ./processed_test2/class_roster.xlsx/class_roster.xlsx -s ./processed_test2/class_roster.xlsx -l Harrington -f Tara\npython .\\grade_update.py -g 5 -c ec2 -fi ./processed_test2/class_roster.xlsx/class_roster.xlsx -s ./processed_test2/class_roster.xlsx -l Spurs -f Raenesha\npython .\\grade_update.py -g 0 -c ec2 -fi ./processed_test2/class_roster.xlsx/class_roster.xlsx -s ./processed_test2/class_roster.xlsx -l Spurs -f Raenesha\npython .\\grade_update.py -g 0 -c ec2 -fi ./processed_test2/class_roster.xlsx/class_roster.xlsx -s ./processed_test2/class_roster.xlsx -l Babcock -f Kennedee\npython .\\grade_update.py -g 5 -c ec2 -fi ./processed_test2/class_roster.xlsx/class_roster.xlsx -s ./processed_test2/class_roster.xlsx -l Babcock -f Kennedee\npython .\\grade_update.py -g 5 -c ec2 -fi ./processed_test2/class_roster.xlsx/class_roster.xlsx -s ./processed_test2/class_roster.xlsx -l Duran -f Kristin\npython .\\grade_update.py -g 5 -c ec2 -fi ./processed_test2/class_roster.xlsx/class_roster.xlsx -s ./processed_test2/class_roster.xlsx -l Escoto -f Andrea\npython .\\grade_update.py -g 5 -c ec2 -fi ./processed_test2/class_roster.xlsx/class_roster.xlsx -s ./processed_test2/class_roster.xlsx -l Weis -f Trevor\npython .\\grade_update.py -g 5 -c ec2 -fi ./processed_test2/class_roster.xlsx/class_roster.xlsx -s ./processed_test2/class_roster.xlsx -l Childers -f Paige\npython .\\grade_update.py -g 5 -c ec2 -fi ./processed_test2/class_roster.xlsx/class_roster.xlsx -s ./processed_test2/class_roster.xlsx -l Nolden -f Jordan\npython .\\grade_update.py -g 5 -c ec2 -fi ./processed_test2/class_roster.xlsx/class_roster.xlsx -s ./processed_test2/class_roster.xlsx -l Modina -f Christian\npython .\\grade_update.py -g 5 -c ec2 -fi ./processed_test2/class_roster.xlsx/class_roster.xlsx -s ./processed_test2/class_roster.xlsx -l Martinez -f Erick\npython .\\grade_update.py -g 5 -c ec2 -fi ./processed_test2/class_roster.xlsx/class_roster.xlsx -s ./processed_test2/class_roster.xlsx -l Crowder -f Liam\npython .\\grade_update.py -g 0 -c ec2 -fi ./processed_test2/class_roster.xlsx/class_roster.xlsx -s ./processed_test2/class_roster.xlsx -l Crowder -f Liam\npython .\\grade_update.py -g 5 -c ec2 -fi ./processed_test2/class_roster.xlsx/class_roster.xlsx -s ./processed_test2/class_roster.xlsx -l Talkington -f Hannah\npython .\\grade_update.py -g 5 -c ec2 -fi ./processed_test2/class_roster.xlsx/class_roster.xlsx -s ./processed_test2/class_roster.xlsx -l Porter -f Sophia\npython .\\grade_update.py -g 5 -c ec2 -fi ./processed_test2/class_roster.xlsx/class_roster.xlsx -s ./processed_test2/class_roster.xlsx -l Dellinger -f Jacob\npython .\\grade_update.py -g 5 -c ec2 -fi ./processed_test2/class_roster.xlsx/class_roster.xlsx -s ./processed_test2/class_roster.xlsx -l Martinez -f Elias\npython .\\grade_update.py -g 5 -c ec2 -fi ./processed_test2/class_roster.xlsx/class_roster.xlsx -s ./processed_test2/class_roster.xlsx -l Haley -f Macie\npython .\\grade_update.py -g 5 -c ec2 -fi ./processed_test2/class_roster.xlsx/class_roster.xlsx -s ./processed_test2/class_roster.xlsx -l tang -f Lauren\npython .\\grade_update.py -g 5 -c ec2 -fi ./processed_test2/class_roster.xlsx/class_roster.xlsx -s ./processed_test2/class_roster.xlsx -l Tang -f Lauren\npython .\\grade_update.py -g 5 -c ec2 -fi ./processed_test2/class_roster.xlsx/class_roster.xlsx -s ./processed_test2/class_roster.xlsx -l Hicks -f Emma\npython .\\grade_update.py -g 5 -c ec2 -fi ./processed_test2/class_roster.xlsx/class_roster.xlsx -s ./processed_test2/class_roster.xlsx -l Mara -f Hosaka\npython .\\grade_update.py -g 5 -c ec2 -fi ./processed_test2/class_roster.xlsx/class_roster.xlsx -s ./processed_test2/class_roster.xlsx -l Hosaka -f Mara\npython .\\grade_update.py -g 5 -c ec2 -fi ./processed_test2/class_roster.xlsx/class_roster.xlsx -s ./processed_test2/class_roster.xlsx -l Butcher -f Tristan\npython .\\grade_update.py -g 5 -c ec2 -fi ./processed_test2/class_roster.xlsx/class_roster.xlsx -s ./processed_test2/class_roster.xlsx -l Bergmann -f Mallory\npython .\\grade_update.py -g 5 -c ec2 -fi ./processed_test2/class_roster.xlsx/class_roster.xlsx -s ./processed_test2/class_roster.xlsx -l Nwabuko -f Ebubechukun\npython .\\grade_update.py -g 5 -c ec2 -fi ./processed_test2/class_roster.xlsx/class_roster.xlsx -s ./processed_test2/class_roster.xlsx -l Nwabuko -f Ebubechukwu\npython .\\grade_update.py -g 5 -c ec2 -fi ./processed_test2/class_roster.xlsx/class_roster.xlsx -s ./processed_test2/class_roster.xlsx -l Gonzalez -f Derrick\npython .\\grade_update.py -g 0 -c ec2 -fi ./processed_test2/class_roster.xlsx/class_roster.xlsx -s ./processed_test2/class_roster.xlsx -l Gonzalez -f Derrick\npython .\\grade_update.py -g 5 -c ec2 -fi ./processed_test2/class_roster.xlsx/class_roster.xlsx -s ./processed_test2/class_roster.xlsx -l Bayles -f Austin\npython .\\grade_update.py -g 5 -c ec2 -fi ./processed_test2/class_roster.xlsx/class_roster.xlsx -s ./processed_test2/class_roster.xlsx -l Nelson -f Molly\npython .\\grade_update.py -g 5 -c ec2 -fi ./processed_test2/class_roster.xlsx/class_roster.xlsx -s ./processed_test2/class_roster.xlsx -l Bueche -f Evan\npython .\\grade_update.py -g 5 -c ec2 -fi ./processed_test2/class_roster.xlsx/class_roster.xlsx -s ./processed_test2/class_roster.xlsx -l Hoplens -f Drake\npython .\\grade_update.py -g 5 -c ec2 -fi ./processed_test2/class_roster.xlsx/class_roster.xlsx -s ./processed_test2/class_roster.xlsx -l Hopkins -f Drake\npython .\\grade_update.py -g 5 -c ec2 -fi ./processed_test2/class_roster.xlsx/class_roster.xlsx -s ./processed_test2/class_roster.xlsx -l Munn -f Margaret\npython .\\grade_update.py -g 5 -c ec2 -fi ./processed_test2/class_roster.xlsx/class_roster.xlsx -s ./processed_test2/class_roster.xlsx -l Silva -f Aiden\npython .\\grade_update.py -g 0 -c ec2 -fi ./processed_test2/class_roster.xlsx/class_roster.xlsx -s ./processed_test2/class_roster.xlsx -l Silva -f Aiden\npython .\\grade_update.py -g 0 -c ec2 -fi ./processed_test2/class_roster.xlsx/class_roster.xlsx -s ./processed_test2/class_roster.xlsx -l Mace -f Brianna\npython .\\grade_update.py -g 5 -c ec2 -fi ./processed_test2/class_roster.xlsx/class_roster.xlsx -s ./processed_test2/class_roster.xlsx -l Mace -f Brianna\npython .\\grade_update.py -g 5 -c ec2 -fi ./processed_test2/class_roster.xlsx/class_roster.xlsx -s ./processed_test2/class_roster.xlsx -l Ty -f Neville\npython .\\grade_update.py -g 5 -c ec2 -fi ./processed_test2/class_roster.xlsx/class_roster.xlsx -s ./processed_test2/class_roster.xlsx -l Neville -f Ty\n"
    }
   ],
   "source": [
    "for val in commands:\n",
    "    print(val)"
   ]
  },
  {
   "cell_type": "code",
   "execution_count": 34,
   "metadata": {},
   "outputs": [],
   "source": [
    "string = commands[0]"
   ]
  },
  {
   "cell_type": "code",
   "execution_count": 35,
   "metadata": {},
   "outputs": [
    {
     "output_type": "execute_result",
     "data": {
      "text/plain": "'python .\\\\grade_update.py -g 5 -c ec2 -fi .\\\\class_roster.xlsx -s ./processed_test2/class_roster.xlsx -l Herber -f Brady'"
     },
     "metadata": {},
     "execution_count": 35
    }
   ],
   "source": [
    "string"
   ]
  },
  {
   "cell_type": "code",
   "execution_count": 40,
   "metadata": {},
   "outputs": [
    {
     "output_type": "execute_result",
     "data": {
      "text/plain": "['python',\n '.\\\\grade_update.py',\n '-g',\n '5',\n '-c',\n 'ec2',\n '-fi',\n './processed_test2/class_roster.xlsx',\n '-s',\n './processed_test2/class_roster.xlsx',\n '-l',\n 'Herber',\n '-f',\n 'Brady']"
     },
     "metadata": {},
     "execution_count": 40
    }
   ],
   "source": [
    "test = string.split(' ')\n",
    "test[7] = test[9]\n",
    "test"
   ]
  },
  {
   "cell_type": "code",
   "execution_count": 29,
   "metadata": {},
   "outputs": [
    {
     "output_type": "execute_result",
     "data": {
      "text/plain": "'11 python .\\\\grade_update.py -g 5 -c ec2 -fi .\\\\class_roster.xlsx -s ./processed_test2/class_roster.xlsx -l Herber -f Brady'"
     },
     "metadata": {},
     "execution_count": 29
    }
   ],
   "source": [
    "strip"
   ]
  },
  {
   "cell_type": "code",
   "execution_count": null,
   "metadata": {},
   "outputs": [],
   "source": []
  }
 ]
}
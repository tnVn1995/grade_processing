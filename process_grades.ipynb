{
 "cells": [
  {
   "cell_type": "code",
   "execution_count": 2,
   "metadata": {
    "collapsed": true,
    "pycharm": {
     "is_executing": false
    }
   },
   "outputs": [
    {
     "name": "stdout",
     "text": [
      "WARNING *** OLE2 inconsistency: SSCS size is 0 but SSAT size is non-zero\n"
     ],
     "output_type": "stream"
    },
    {
     "data": {
      "text/plain": "     RNumber                 StudentName   eRaider  RawScore  PctScore    CRN  \\\n0  R11576052  Adebanjo, Oluwafoyinsola M  oladeban       NaN       NaN  26799   \n1  R11653658            Ashley, Kimber L  kiashley       NaN       NaN  26799   \n2  R11510244         Babcock, Kennedee M  kebabcoc       7.0  0.777778  26799   \n3  R11529545            Bayles, Austin M  ausbayle       6.0  0.666667  26799   \n4  R11619776         Benedict, Gabriel L  gabenedi       8.0  0.888889  26799   \n\n   Ranking  PctScoreAsPct  \n0      NaN            NaN  \n1      NaN            NaN  \n2     55.5      77.777778  \n3     84.5      66.666667  \n4     24.5      88.888889  ",
      "text/html": "<div>\n<style scoped>\n    .dataframe tbody tr th:only-of-type {\n        vertical-align: middle;\n    }\n\n    .dataframe tbody tr th {\n        vertical-align: top;\n    }\n\n    .dataframe thead th {\n        text-align: right;\n    }\n</style>\n<table border=\"1\" class=\"dataframe\">\n  <thead>\n    <tr style=\"text-align: right;\">\n      <th></th>\n      <th>RNumber</th>\n      <th>StudentName</th>\n      <th>eRaider</th>\n      <th>RawScore</th>\n      <th>PctScore</th>\n      <th>CRN</th>\n      <th>Ranking</th>\n      <th>PctScoreAsPct</th>\n    </tr>\n  </thead>\n  <tbody>\n    <tr>\n      <td>0</td>\n      <td>R11576052</td>\n      <td>Adebanjo, Oluwafoyinsola M</td>\n      <td>oladeban</td>\n      <td>NaN</td>\n      <td>NaN</td>\n      <td>26799</td>\n      <td>NaN</td>\n      <td>NaN</td>\n    </tr>\n    <tr>\n      <td>1</td>\n      <td>R11653658</td>\n      <td>Ashley, Kimber L</td>\n      <td>kiashley</td>\n      <td>NaN</td>\n      <td>NaN</td>\n      <td>26799</td>\n      <td>NaN</td>\n      <td>NaN</td>\n    </tr>\n    <tr>\n      <td>2</td>\n      <td>R11510244</td>\n      <td>Babcock, Kennedee M</td>\n      <td>kebabcoc</td>\n      <td>7.0</td>\n      <td>0.777778</td>\n      <td>26799</td>\n      <td>55.5</td>\n      <td>77.777778</td>\n    </tr>\n    <tr>\n      <td>3</td>\n      <td>R11529545</td>\n      <td>Bayles, Austin M</td>\n      <td>ausbayle</td>\n      <td>6.0</td>\n      <td>0.666667</td>\n      <td>26799</td>\n      <td>84.5</td>\n      <td>66.666667</td>\n    </tr>\n    <tr>\n      <td>4</td>\n      <td>R11619776</td>\n      <td>Benedict, Gabriel L</td>\n      <td>gabenedi</td>\n      <td>8.0</td>\n      <td>0.888889</td>\n      <td>26799</td>\n      <td>24.5</td>\n      <td>88.888889</td>\n    </tr>\n  </tbody>\n</table>\n</div>"
     },
     "metadata": {},
     "output_type": "execute_result",
     "execution_count": 2
    }
   ],
   "source": [
    "import pandas as pd\n",
    "\n",
    "quiz1 = pd.read_excel('quiz1.xls')\n",
    "\n",
    "quiz1.head()"
   ]
  },
  {
   "cell_type": "code",
   "execution_count": 3,
   "outputs": [
    {
     "data": {
      "text/plain": "  Last Name First Name  Username Student ID         Last Access Availability  \\\n0  Adebanjo      Foyin  oladeban  R11576052 2020-02-07 11:48:34          Yes   \n1    Ashley     Kimber  kiashley  R11653658 2020-02-09 19:28:05          Yes   \n2   Babcock   Kennedee  kebabcoc  R11510244 2020-02-07 10:24:54          Yes   \n3    Bayles     Austin  ausbayle  R11529545 2020-02-07 12:47:52          Yes   \n4  Benedict    Gabriel  gabenedi  R11619776 2020-02-07 13:12:04          Yes   \n\n   Weighted Total [Total Pts: up to 0 Percentage] |1610680  \\\n0                                                NaN         \n1                                                NaN         \n2                                                NaN         \n3                                                NaN         \n4                                                NaN         \n\n   Total [Total Pts: up to 0 Score] |1610681  \n0                                        NaN  \n1                                        NaN  \n2                                        NaN  \n3                                        NaN  \n4                                        NaN  ",
      "text/html": "<div>\n<style scoped>\n    .dataframe tbody tr th:only-of-type {\n        vertical-align: middle;\n    }\n\n    .dataframe tbody tr th {\n        vertical-align: top;\n    }\n\n    .dataframe thead th {\n        text-align: right;\n    }\n</style>\n<table border=\"1\" class=\"dataframe\">\n  <thead>\n    <tr style=\"text-align: right;\">\n      <th></th>\n      <th>Last Name</th>\n      <th>First Name</th>\n      <th>Username</th>\n      <th>Student ID</th>\n      <th>Last Access</th>\n      <th>Availability</th>\n      <th>Weighted Total [Total Pts: up to 0 Percentage] |1610680</th>\n      <th>Total [Total Pts: up to 0 Score] |1610681</th>\n    </tr>\n  </thead>\n  <tbody>\n    <tr>\n      <td>0</td>\n      <td>Adebanjo</td>\n      <td>Foyin</td>\n      <td>oladeban</td>\n      <td>R11576052</td>\n      <td>2020-02-07 11:48:34</td>\n      <td>Yes</td>\n      <td>NaN</td>\n      <td>NaN</td>\n    </tr>\n    <tr>\n      <td>1</td>\n      <td>Ashley</td>\n      <td>Kimber</td>\n      <td>kiashley</td>\n      <td>R11653658</td>\n      <td>2020-02-09 19:28:05</td>\n      <td>Yes</td>\n      <td>NaN</td>\n      <td>NaN</td>\n    </tr>\n    <tr>\n      <td>2</td>\n      <td>Babcock</td>\n      <td>Kennedee</td>\n      <td>kebabcoc</td>\n      <td>R11510244</td>\n      <td>2020-02-07 10:24:54</td>\n      <td>Yes</td>\n      <td>NaN</td>\n      <td>NaN</td>\n    </tr>\n    <tr>\n      <td>3</td>\n      <td>Bayles</td>\n      <td>Austin</td>\n      <td>ausbayle</td>\n      <td>R11529545</td>\n      <td>2020-02-07 12:47:52</td>\n      <td>Yes</td>\n      <td>NaN</td>\n      <td>NaN</td>\n    </tr>\n    <tr>\n      <td>4</td>\n      <td>Benedict</td>\n      <td>Gabriel</td>\n      <td>gabenedi</td>\n      <td>R11619776</td>\n      <td>2020-02-07 13:12:04</td>\n      <td>Yes</td>\n      <td>NaN</td>\n      <td>NaN</td>\n    </tr>\n  </tbody>\n</table>\n</div>"
     },
     "metadata": {},
     "output_type": "execute_result",
     "execution_count": 3
    }
   ],
   "source": [
    "roster = pd.read_excel('class_roster.xlsx')\n",
    "\n",
    "roster.head()"
   ],
   "metadata": {
    "collapsed": false,
    "pycharm": {
     "name": "#%%\n",
     "is_executing": false
    }
   }
  },
  {
   "cell_type": "code",
   "execution_count": null,
   "outputs": [],
   "source": [
    "def parse_grade(quiz: pd.DataFrame, roster: pd.DataFrame, file: str) -> pd.DataFrame:\n",
    "    \"\"\"Parse grades from quiz to roster\"\"\"\n",
    "    quiz_core = quiz.loc[:,['RNumber', 'RawScore']]\n",
    "    for idx, val in enumerate(quiz_core.values):\n",
    "        "
   ],
   "metadata": {
    "collapsed": false,
    "pycharm": {
     "name": "#%%\n"
    }
   }
  },
  {
   "cell_type": "code",
   "execution_count": 14,
   "outputs": [
    {
     "data": {
      "text/plain": "       RNumber  RawScore\n0    R11576052       NaN\n1    R11653658       NaN\n2    R11510244       7.0\n3    R11529545       6.0\n4    R11619776       8.0\n..         ...       ...\n115  R11554938       6.0\n116  R11608085       7.0\n117  R11575665       8.0\n118  R00000002       6.0\n119  R00000001       6.0\n\n[120 rows x 2 columns]",
      "text/html": "<div>\n<style scoped>\n    .dataframe tbody tr th:only-of-type {\n        vertical-align: middle;\n    }\n\n    .dataframe tbody tr th {\n        vertical-align: top;\n    }\n\n    .dataframe thead th {\n        text-align: right;\n    }\n</style>\n<table border=\"1\" class=\"dataframe\">\n  <thead>\n    <tr style=\"text-align: right;\">\n      <th></th>\n      <th>RNumber</th>\n      <th>RawScore</th>\n    </tr>\n  </thead>\n  <tbody>\n    <tr>\n      <td>0</td>\n      <td>R11576052</td>\n      <td>NaN</td>\n    </tr>\n    <tr>\n      <td>1</td>\n      <td>R11653658</td>\n      <td>NaN</td>\n    </tr>\n    <tr>\n      <td>2</td>\n      <td>R11510244</td>\n      <td>7.0</td>\n    </tr>\n    <tr>\n      <td>3</td>\n      <td>R11529545</td>\n      <td>6.0</td>\n    </tr>\n    <tr>\n      <td>4</td>\n      <td>R11619776</td>\n      <td>8.0</td>\n    </tr>\n    <tr>\n      <td>...</td>\n      <td>...</td>\n      <td>...</td>\n    </tr>\n    <tr>\n      <td>115</td>\n      <td>R11554938</td>\n      <td>6.0</td>\n    </tr>\n    <tr>\n      <td>116</td>\n      <td>R11608085</td>\n      <td>7.0</td>\n    </tr>\n    <tr>\n      <td>117</td>\n      <td>R11575665</td>\n      <td>8.0</td>\n    </tr>\n    <tr>\n      <td>118</td>\n      <td>R00000002</td>\n      <td>6.0</td>\n    </tr>\n    <tr>\n      <td>119</td>\n      <td>R00000001</td>\n      <td>6.0</td>\n    </tr>\n  </tbody>\n</table>\n<p>120 rows × 2 columns</p>\n</div>"
     },
     "metadata": {},
     "output_type": "display_data"
    },
    {
     "data": {
      "text/plain": "Index(['Last Name', 'First Name', 'Username', 'Student ID', 'Last Access',\n       'Availability',\n       'Weighted Total [Total Pts: up to 0 Percentage] |1610680',\n       'Total [Total Pts: up to 0 Score] |1610681'],\n      dtype='object')"
     },
     "metadata": {},
     "output_type": "display_data"
    },
    {
     "data": {
      "text/plain": "  Last Name First Name  Username Student ID         Last Access Availability  \\\n0  Adebanjo      Foyin  oladeban  R11576052 2020-02-07 11:48:34          Yes   \n1    Ashley     Kimber  kiashley  R11653658 2020-02-09 19:28:05          Yes   \n2   Babcock   Kennedee  kebabcoc  R11510244 2020-02-07 10:24:54          Yes   \n3    Bayles     Austin  ausbayle  R11529545 2020-02-07 12:47:52          Yes   \n4  Benedict    Gabriel  gabenedi  R11619776 2020-02-07 13:12:04          Yes   \n\n   Weighted Total [Total Pts: up to 0 Percentage] |1610680  \\\n0                                                NaN         \n1                                                NaN         \n2                                                NaN         \n3                                                NaN         \n4                                                NaN         \n\n   Total [Total Pts: up to 0 Score] |1610681  \n0                                        NaN  \n1                                        NaN  \n2                                        NaN  \n3                                        NaN  \n4                                        NaN  ",
      "text/html": "<div>\n<style scoped>\n    .dataframe tbody tr th:only-of-type {\n        vertical-align: middle;\n    }\n\n    .dataframe tbody tr th {\n        vertical-align: top;\n    }\n\n    .dataframe thead th {\n        text-align: right;\n    }\n</style>\n<table border=\"1\" class=\"dataframe\">\n  <thead>\n    <tr style=\"text-align: right;\">\n      <th></th>\n      <th>Last Name</th>\n      <th>First Name</th>\n      <th>Username</th>\n      <th>Student ID</th>\n      <th>Last Access</th>\n      <th>Availability</th>\n      <th>Weighted Total [Total Pts: up to 0 Percentage] |1610680</th>\n      <th>Total [Total Pts: up to 0 Score] |1610681</th>\n    </tr>\n  </thead>\n  <tbody>\n    <tr>\n      <td>0</td>\n      <td>Adebanjo</td>\n      <td>Foyin</td>\n      <td>oladeban</td>\n      <td>R11576052</td>\n      <td>2020-02-07 11:48:34</td>\n      <td>Yes</td>\n      <td>NaN</td>\n      <td>NaN</td>\n    </tr>\n    <tr>\n      <td>1</td>\n      <td>Ashley</td>\n      <td>Kimber</td>\n      <td>kiashley</td>\n      <td>R11653658</td>\n      <td>2020-02-09 19:28:05</td>\n      <td>Yes</td>\n      <td>NaN</td>\n      <td>NaN</td>\n    </tr>\n    <tr>\n      <td>2</td>\n      <td>Babcock</td>\n      <td>Kennedee</td>\n      <td>kebabcoc</td>\n      <td>R11510244</td>\n      <td>2020-02-07 10:24:54</td>\n      <td>Yes</td>\n      <td>NaN</td>\n      <td>NaN</td>\n    </tr>\n    <tr>\n      <td>3</td>\n      <td>Bayles</td>\n      <td>Austin</td>\n      <td>ausbayle</td>\n      <td>R11529545</td>\n      <td>2020-02-07 12:47:52</td>\n      <td>Yes</td>\n      <td>NaN</td>\n      <td>NaN</td>\n    </tr>\n    <tr>\n      <td>4</td>\n      <td>Benedict</td>\n      <td>Gabriel</td>\n      <td>gabenedi</td>\n      <td>R11619776</td>\n      <td>2020-02-07 13:12:04</td>\n      <td>Yes</td>\n      <td>NaN</td>\n      <td>NaN</td>\n    </tr>\n  </tbody>\n</table>\n</div>"
     },
     "metadata": {},
     "output_type": "display_data"
    },
    {
     "traceback": [
      "\u001b[1;31m---------------------------------------------------------------------------\u001b[0m",
      "\u001b[1;31mKeyError\u001b[0m                                  Traceback (most recent call last)",
      "\u001b[1;32m<ipython-input-14-1a19d7352188>\u001b[0m in \u001b[0;36m<module>\u001b[1;34m\u001b[0m\n\u001b[0;32m      6\u001b[0m \u001b[0mroster\u001b[0m\u001b[1;33m[\u001b[0m\u001b[1;34m'quiz1'\u001b[0m\u001b[1;33m]\u001b[0m \u001b[1;33m=\u001b[0m \u001b[1;32mNone\u001b[0m\u001b[1;33m\u001b[0m\u001b[1;33m\u001b[0m\u001b[0m\n\u001b[0;32m      7\u001b[0m \u001b[1;32mfor\u001b[0m \u001b[0midx\u001b[0m\u001b[1;33m,\u001b[0m \u001b[0mval\u001b[0m \u001b[1;32min\u001b[0m \u001b[0menumerate\u001b[0m\u001b[1;33m(\u001b[0m\u001b[0mquiz1_core\u001b[0m\u001b[1;33m.\u001b[0m\u001b[0miloc\u001b[0m\u001b[1;33m[\u001b[0m\u001b[1;36m1\u001b[0m\u001b[1;33m:\u001b[0m\u001b[1;36m5\u001b[0m\u001b[1;33m,\u001b[0m\u001b[1;33m]\u001b[0m\u001b[1;33m.\u001b[0m\u001b[0mvalues\u001b[0m\u001b[1;33m)\u001b[0m\u001b[1;33m:\u001b[0m\u001b[1;33m\u001b[0m\u001b[1;33m\u001b[0m\u001b[0m\n\u001b[1;32m----> 8\u001b[1;33m     \u001b[0mroster\u001b[0m\u001b[1;33m.\u001b[0m\u001b[0mloc\u001b[0m\u001b[1;33m[\u001b[0m\u001b[1;34m'Student ID'\u001b[0m\u001b[1;33m==\u001b[0m\u001b[0mval\u001b[0m\u001b[1;33m[\u001b[0m\u001b[1;36m0\u001b[0m\u001b[1;33m]\u001b[0m\u001b[1;33m,\u001b[0m\u001b[1;34m'quiz1'\u001b[0m\u001b[1;33m]\u001b[0m \u001b[1;33m=\u001b[0m \u001b[0mval\u001b[0m\u001b[1;33m[\u001b[0m\u001b[1;36m1\u001b[0m\u001b[1;33m]\u001b[0m\u001b[1;33m\u001b[0m\u001b[1;33m\u001b[0m\u001b[0m\n\u001b[0m\u001b[0;32m      9\u001b[0m \u001b[1;33m\u001b[0m\u001b[0m\n",
      "\u001b[1;32m~\\AppData\\Roaming\\Python\\Python37\\site-packages\\pandas\\core\\indexing.py\u001b[0m in \u001b[0;36m__setitem__\u001b[1;34m(self, key, value)\u001b[0m\n\u001b[0;32m    203\u001b[0m             \u001b[0mkey\u001b[0m \u001b[1;33m=\u001b[0m \u001b[0mcom\u001b[0m\u001b[1;33m.\u001b[0m\u001b[0mapply_if_callable\u001b[0m\u001b[1;33m(\u001b[0m\u001b[0mkey\u001b[0m\u001b[1;33m,\u001b[0m \u001b[0mself\u001b[0m\u001b[1;33m.\u001b[0m\u001b[0mobj\u001b[0m\u001b[1;33m)\u001b[0m\u001b[1;33m\u001b[0m\u001b[1;33m\u001b[0m\u001b[0m\n\u001b[0;32m    204\u001b[0m         \u001b[0mindexer\u001b[0m \u001b[1;33m=\u001b[0m \u001b[0mself\u001b[0m\u001b[1;33m.\u001b[0m\u001b[0m_get_setitem_indexer\u001b[0m\u001b[1;33m(\u001b[0m\u001b[0mkey\u001b[0m\u001b[1;33m)\u001b[0m\u001b[1;33m\u001b[0m\u001b[1;33m\u001b[0m\u001b[0m\n\u001b[1;32m--> 205\u001b[1;33m         \u001b[0mself\u001b[0m\u001b[1;33m.\u001b[0m\u001b[0m_setitem_with_indexer\u001b[0m\u001b[1;33m(\u001b[0m\u001b[0mindexer\u001b[0m\u001b[1;33m,\u001b[0m \u001b[0mvalue\u001b[0m\u001b[1;33m)\u001b[0m\u001b[1;33m\u001b[0m\u001b[1;33m\u001b[0m\u001b[0m\n\u001b[0m\u001b[0;32m    206\u001b[0m \u001b[1;33m\u001b[0m\u001b[0m\n\u001b[0;32m    207\u001b[0m     \u001b[1;32mdef\u001b[0m \u001b[0m_validate_key\u001b[0m\u001b[1;33m(\u001b[0m\u001b[0mself\u001b[0m\u001b[1;33m,\u001b[0m \u001b[0mkey\u001b[0m\u001b[1;33m,\u001b[0m \u001b[0maxis\u001b[0m\u001b[1;33m:\u001b[0m \u001b[0mint\u001b[0m\u001b[1;33m)\u001b[0m\u001b[1;33m:\u001b[0m\u001b[1;33m\u001b[0m\u001b[1;33m\u001b[0m\u001b[0m\n",
      "\u001b[1;32m~\\AppData\\Roaming\\Python\\Python37\\site-packages\\pandas\\core\\indexing.py\u001b[0m in \u001b[0;36m_setitem_with_indexer\u001b[1;34m(self, indexer, value)\u001b[0m\n\u001b[0;32m    348\u001b[0m                     \u001b[1;31m# reindex the axis to the new value\u001b[0m\u001b[1;33m\u001b[0m\u001b[1;33m\u001b[0m\u001b[1;33m\u001b[0m\u001b[0m\n\u001b[0;32m    349\u001b[0m                     \u001b[1;31m# and set inplace\u001b[0m\u001b[1;33m\u001b[0m\u001b[1;33m\u001b[0m\u001b[1;33m\u001b[0m\u001b[0m\n\u001b[1;32m--> 350\u001b[1;33m                     \u001b[0mkey\u001b[0m\u001b[1;33m,\u001b[0m \u001b[0m_\u001b[0m \u001b[1;33m=\u001b[0m \u001b[0mconvert_missing_indexer\u001b[0m\u001b[1;33m(\u001b[0m\u001b[0midx\u001b[0m\u001b[1;33m)\u001b[0m\u001b[1;33m\u001b[0m\u001b[1;33m\u001b[0m\u001b[0m\n\u001b[0m\u001b[0;32m    351\u001b[0m \u001b[1;33m\u001b[0m\u001b[0m\n\u001b[0;32m    352\u001b[0m                     \u001b[1;31m# if this is the items axes, then take the main missing\u001b[0m\u001b[1;33m\u001b[0m\u001b[1;33m\u001b[0m\u001b[1;33m\u001b[0m\u001b[0m\n",
      "\u001b[1;32m~\\AppData\\Roaming\\Python\\Python37\\site-packages\\pandas\\core\\indexing.py\u001b[0m in \u001b[0;36mconvert_missing_indexer\u001b[1;34m(indexer)\u001b[0m\n\u001b[0;32m   2440\u001b[0m \u001b[1;33m\u001b[0m\u001b[0m\n\u001b[0;32m   2441\u001b[0m         \u001b[1;32mif\u001b[0m \u001b[0misinstance\u001b[0m\u001b[1;33m(\u001b[0m\u001b[0mindexer\u001b[0m\u001b[1;33m,\u001b[0m \u001b[0mbool\u001b[0m\u001b[1;33m)\u001b[0m\u001b[1;33m:\u001b[0m\u001b[1;33m\u001b[0m\u001b[1;33m\u001b[0m\u001b[0m\n\u001b[1;32m-> 2442\u001b[1;33m             \u001b[1;32mraise\u001b[0m \u001b[0mKeyError\u001b[0m\u001b[1;33m(\u001b[0m\u001b[1;34m\"cannot use a single bool to index into setitem\"\u001b[0m\u001b[1;33m)\u001b[0m\u001b[1;33m\u001b[0m\u001b[1;33m\u001b[0m\u001b[0m\n\u001b[0m\u001b[0;32m   2443\u001b[0m         \u001b[1;32mreturn\u001b[0m \u001b[0mindexer\u001b[0m\u001b[1;33m,\u001b[0m \u001b[1;32mTrue\u001b[0m\u001b[1;33m\u001b[0m\u001b[1;33m\u001b[0m\u001b[0m\n\u001b[0;32m   2444\u001b[0m \u001b[1;33m\u001b[0m\u001b[0m\n",
      "\u001b[1;31mKeyError\u001b[0m: 'cannot use a single bool to index into setitem'"
     ],
     "ename": "KeyError",
     "evalue": "'cannot use a single bool to index into setitem'",
     "output_type": "error"
    }
   ],
   "source": [
    "quiz1.columns\n",
    "quiz1_core = quiz1.loc[:,['RNumber', 'RawScore']]\n",
    "display(quiz1_core)\n",
    "display(roster.columns)\n",
    "display(roster.head())\n",
    "roster['quiz1'] = None\n",
    "for idx, val in enumerate(quiz1_core.iloc[1:5,].values):\n",
    "    roster.loc['Student ID'==val[0],'quiz1'] = val[1]"
   ],
   "metadata": {
    "collapsed": false,
    "pycharm": {
     "name": "#%%\n",
     "is_executing": false
    }
   }
  },
  {
   "cell_type": "code",
   "execution_count": 15,
   "outputs": [
    {
     "data": {
      "text/plain": "  Last Name First Name  Username Student ID         Last Access Availability  \\\n0  Adebanjo      Foyin  oladeban  R11576052 2020-02-07 11:48:34          Yes   \n1    Ashley     Kimber  kiashley  R11653658 2020-02-09 19:28:05          Yes   \n2   Babcock   Kennedee  kebabcoc  R11510244 2020-02-07 10:24:54          Yes   \n3    Bayles     Austin  ausbayle  R11529545 2020-02-07 12:47:52          Yes   \n4  Benedict    Gabriel  gabenedi  R11619776 2020-02-07 13:12:04          Yes   \n\n   Weighted Total [Total Pts: up to 0 Percentage] |1610680  \\\n0                                                NaN         \n1                                                NaN         \n2                                                NaN         \n3                                                NaN         \n4                                                NaN         \n\n   Total [Total Pts: up to 0 Score] |1610681 quiz1  \n0                                        NaN  None  \n1                                        NaN  None  \n2                                        NaN  None  \n3                                        NaN  None  \n4                                        NaN  None  ",
      "text/html": "<div>\n<style scoped>\n    .dataframe tbody tr th:only-of-type {\n        vertical-align: middle;\n    }\n\n    .dataframe tbody tr th {\n        vertical-align: top;\n    }\n\n    .dataframe thead th {\n        text-align: right;\n    }\n</style>\n<table border=\"1\" class=\"dataframe\">\n  <thead>\n    <tr style=\"text-align: right;\">\n      <th></th>\n      <th>Last Name</th>\n      <th>First Name</th>\n      <th>Username</th>\n      <th>Student ID</th>\n      <th>Last Access</th>\n      <th>Availability</th>\n      <th>Weighted Total [Total Pts: up to 0 Percentage] |1610680</th>\n      <th>Total [Total Pts: up to 0 Score] |1610681</th>\n      <th>quiz1</th>\n    </tr>\n  </thead>\n  <tbody>\n    <tr>\n      <td>0</td>\n      <td>Adebanjo</td>\n      <td>Foyin</td>\n      <td>oladeban</td>\n      <td>R11576052</td>\n      <td>2020-02-07 11:48:34</td>\n      <td>Yes</td>\n      <td>NaN</td>\n      <td>NaN</td>\n      <td>None</td>\n    </tr>\n    <tr>\n      <td>1</td>\n      <td>Ashley</td>\n      <td>Kimber</td>\n      <td>kiashley</td>\n      <td>R11653658</td>\n      <td>2020-02-09 19:28:05</td>\n      <td>Yes</td>\n      <td>NaN</td>\n      <td>NaN</td>\n      <td>None</td>\n    </tr>\n    <tr>\n      <td>2</td>\n      <td>Babcock</td>\n      <td>Kennedee</td>\n      <td>kebabcoc</td>\n      <td>R11510244</td>\n      <td>2020-02-07 10:24:54</td>\n      <td>Yes</td>\n      <td>NaN</td>\n      <td>NaN</td>\n      <td>None</td>\n    </tr>\n    <tr>\n      <td>3</td>\n      <td>Bayles</td>\n      <td>Austin</td>\n      <td>ausbayle</td>\n      <td>R11529545</td>\n      <td>2020-02-07 12:47:52</td>\n      <td>Yes</td>\n      <td>NaN</td>\n      <td>NaN</td>\n      <td>None</td>\n    </tr>\n    <tr>\n      <td>4</td>\n      <td>Benedict</td>\n      <td>Gabriel</td>\n      <td>gabenedi</td>\n      <td>R11619776</td>\n      <td>2020-02-07 13:12:04</td>\n      <td>Yes</td>\n      <td>NaN</td>\n      <td>NaN</td>\n      <td>None</td>\n    </tr>\n  </tbody>\n</table>\n</div>"
     },
     "metadata": {},
     "output_type": "execute_result",
     "execution_count": 15
    }
   ],
   "source": [
    "roster.head()\n",
    "\n"
   ],
   "metadata": {
    "collapsed": false,
    "pycharm": {
     "name": "#%%\n",
     "is_executing": false
    }
   }
  },
  {
   "cell_type": "code",
   "execution_count": null,
   "outputs": [],
   "source": [
    "\n"
   ],
   "metadata": {
    "collapsed": false,
    "pycharm": {
     "name": "#%%\n"
    }
   }
  }
 ],
 "metadata": {
  "kernelspec": {
   "display_name": "Python 3",
   "language": "python",
   "name": "python3"
  },
  "language_info": {
   "codemirror_mode": {
    "name": "ipython",
    "version": 2
   },
   "file_extension": ".py",
   "mimetype": "text/x-python",
   "name": "python",
   "nbconvert_exporter": "python",
   "pygments_lexer": "ipython2",
   "version": "2.7.6"
  },
  "pycharm": {
   "stem_cell": {
    "cell_type": "raw",
    "source": [],
    "metadata": {
     "collapsed": false
    }
   }
  }
 },
 "nbformat": 4,
 "nbformat_minor": 0
}